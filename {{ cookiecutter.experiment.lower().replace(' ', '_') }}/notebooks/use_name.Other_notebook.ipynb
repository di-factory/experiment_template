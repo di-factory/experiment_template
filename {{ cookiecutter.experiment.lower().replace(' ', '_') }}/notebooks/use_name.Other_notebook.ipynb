{
 "cells": [
  {
   "cell_type": "code",
   "execution_count": 1,
   "metadata": {},
   "outputs": [],
   "source": [
    "%load_ext autoreload\n",
    "%autoreload 2\n",
    "# The %load_ext autoreload and %autoreload 2 magic commands are used to automatically \n",
    "# reload modules when they are changed. This can be useful when you are developing code \n",
    "# in an interactive environment, as it allows you to see the changes you make to your modules \n",
    "# without having to restart the kernel.\n",
    "import os\n",
    "from hydra import initialize, initialize_config_module, initialize_config_dir, compose\n",
    "from omegaconf import OmegaConf\n",
    "\n",
    "# for global initialization: NOT RECOMMENDED\n",
    "#initialize(version_base=None, config_path=\"../src/conf\")\n",
    "#compose(config_name='config')\n",
    "\n",
    "with initialize(version_base=None, config_path=\"../src/conf\"):\n",
    "    cfg = compose(config_name='config')\n",
    "    print(cfg)"
   ]
  },
  {
   "cell_type": "code",
   "execution_count": 4,
   "metadata": {},
   "outputs": [
    {
     "name": "stdout",
     "output_type": "stream",
     "text": [
      "{'general_ml': {'seed': 123, 'encoding': 'iso-8859-1'}, 'paths': {'project_dir': '...', 'raw_data': '${hydra:runtime.cwd}/data/raw', 'interim_data': '${hydra:runtime.cwd}/data/interim', 'processed_data': '${hydra:runtime.cwd}/data/processed'}, 'file_names': {'raw_file': 'raw_file.csv', 'data_file': 'datafile.csv', 'train_features': 'train_features.csv', 'train_labels': 'train_labels.csv', 'validation_features': 'valid_features.csv', 'validation_labels': 'valid_labels.csv', 'test_features': 'test_features.csv', 'test_labels': 'test_labels.csv'}, 'data_fields': {'description': 'About what is the dataset', 'label': 'match'}, 'data_pipeline': {'drop_features': ['field', 'from', 'zipcode', 'undergra', 'race', 'race_o'], 'keep_features': ['gender', 'condtn', 'round', 'order', 'partner', 'match', 'int_corr', 'samerace', 'age_o', 'race_o', 'pf_o_att', 'age', 'field', 'undergra', 'race', 'from', 'zipcode', 'income'], 'standarize_text': ['field', 'from', 'zipcode', 'undergra'], 'str_to_float': ['income'], 'to_categorize': ['field', 'from', 'zipcode', 'undergra', 'race', 'race_o'], 'category_to_num': ['field', 'from', 'zipcode', 'undergra'], 'onehot_encoding': ['race', 'race_o'], 'numerical_vars_from_numerical': ['income', 'mn_sat', 'tuition'], 'categorical_vars': ['undergra', 'zipcode'], 'categorical_label_extraction': ['zipcode'], 'pipeline01': 'decisiontree', 'data_transform_params': {'percent_valid': 0.2, 'percent_test': 0.1}}}\n"
     ]
    }
   ],
   "source": [
    "# starting from here...\n"
   ]
  },
  {
   "cell_type": "code",
   "execution_count": null,
   "metadata": {},
   "outputs": [],
   "source": []
  }
 ],
 "metadata": {
  "kernelspec": {
   "display_name": "project_tres",
   "language": "python",
   "name": "python3"
  },
  "language_info": {
   "codemirror_mode": {
    "name": "ipython",
    "version": 3
   },
   "file_extension": ".py",
   "mimetype": "text/x-python",
   "name": "python",
   "nbconvert_exporter": "python",
   "pygments_lexer": "ipython3",
   "version": "3.10.11"
  },
  "orig_nbformat": 4
 },
 "nbformat": 4,
 "nbformat_minor": 2
}
